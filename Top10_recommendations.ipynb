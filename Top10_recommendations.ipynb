{
  "nbformat": 4,
  "nbformat_minor": 0,
  "metadata": {
    "colab": {
      "name": "Top10 recommendations.ipynb",
      "provenance": [],
      "authorship_tag": "ABX9TyNrFJfJekvUjS8e0zMEsjUr",
      "include_colab_link": true
    },
    "kernelspec": {
      "name": "python3",
      "display_name": "Python 3"
    },
    "language_info": {
      "name": "python"
    }
  },
  "cells": [
    {
      "cell_type": "markdown",
      "metadata": {
        "id": "view-in-github",
        "colab_type": "text"
      },
      "source": [
        "<a href=\"https://colab.research.google.com/github/aarthiv2k/test/blob/master/Top10_recommendations.ipynb\" target=\"_parent\"><img src=\"https://colab.research.google.com/assets/colab-badge.svg\" alt=\"Open In Colab\"/></a>"
      ]
    },
    {
      "cell_type": "code",
      "metadata": {
        "colab": {
          "base_uri": "https://localhost:8080/"
        },
        "id": "LvMlcZ1NTqHx",
        "outputId": "a9528eb5-81cc-4019-8776-987de97c3b11"
      },
      "source": [
        "from google.colab import drive\n",
        "drive.mount('/content/drive')"
      ],
      "execution_count": 1,
      "outputs": [
        {
          "output_type": "stream",
          "text": [
            "Mounted at /content/drive\n"
          ],
          "name": "stdout"
        }
      ]
    },
    {
      "cell_type": "code",
      "metadata": {
        "id": "2diy1tYxTtth"
      },
      "source": [
        "import pandas as pd\n",
        "import numpy as np\n",
        "import os\n",
        "import warnings\n",
        "warnings.filterwarnings(\"ignore\", category = RuntimeWarning)"
      ],
      "execution_count": 2,
      "outputs": []
    },
    {
      "cell_type": "code",
      "metadata": {
        "colab": {
          "base_uri": "https://localhost:8080/",
          "height": 35
        },
        "id": "0a00SjtcT7MC",
        "outputId": "723cf987-b770-4459-9373-df7b8a38bcdf"
      },
      "source": [
        "os.getcwd()"
      ],
      "execution_count": 3,
      "outputs": [
        {
          "output_type": "execute_result",
          "data": {
            "application/vnd.google.colaboratory.intrinsic+json": {
              "type": "string"
            },
            "text/plain": [
              "'/content'"
            ]
          },
          "metadata": {
            "tags": []
          },
          "execution_count": 3
        }
      ]
    },
    {
      "cell_type": "code",
      "metadata": {
        "colab": {
          "base_uri": "https://localhost:8080/"
        },
        "id": "gzSJIQK3T9tk",
        "outputId": "3a24c751-b166-4a15-9f0f-312aa0c81366"
      },
      "source": [
        "input_data = pd.read_csv(r\"/content/drive/Shareddrives/Drive/User_pref.csv\")\n",
        "type(input_data.Userpreferences)"
      ],
      "execution_count": 4,
      "outputs": [
        {
          "output_type": "execute_result",
          "data": {
            "text/plain": [
              "pandas.core.series.Series"
            ]
          },
          "metadata": {
            "tags": []
          },
          "execution_count": 4
        }
      ]
    },
    {
      "cell_type": "code",
      "metadata": {
        "id": "04yFq0Q2T_3N"
      },
      "source": [
        "X = []\n",
        "for temp in input_data.Userpreferences:\n",
        "  try:\n",
        "    t = temp.split(\"'\")\n",
        "  except:\n",
        "    continue\n",
        "  t = [x for x in t if x not in [\"[[\",\", \",\"]]\"]]\n",
        "  X.append(t)"
      ],
      "execution_count": 5,
      "outputs": []
    },
    {
      "cell_type": "code",
      "metadata": {
        "id": "_95l7P2CUB6z"
      },
      "source": [
        "word_dictionary = {} \n",
        "counter = 1\n",
        "for x in X:\n",
        "  for a in x:\n",
        "    if not a in word_dictionary:\n",
        "      word_dictionary[a] = counter\n",
        "      counter+=1"
      ],
      "execution_count": 6,
      "outputs": []
    },
    {
      "cell_type": "code",
      "metadata": {
        "id": "P1O5vHP6UEqA"
      },
      "source": [
        "for column,x in enumerate(X):\n",
        "  for row,a in enumerate(x):\n",
        "    X[column][row] = word_dictionary[a]"
      ],
      "execution_count": 7,
      "outputs": []
    },
    {
      "cell_type": "code",
      "metadata": {
        "id": "P7Zep4w2UJs3"
      },
      "source": [
        "df = pd.DataFrame(X)"
      ],
      "execution_count": 8,
      "outputs": []
    },
    {
      "cell_type": "code",
      "metadata": {
        "id": "2mTINPVCUMXw"
      },
      "source": [
        "import matplotlib.pyplot as plt\n",
        "import sklearn\n",
        "from sklearn.cluster import KMeans\n",
        "from mpl_toolkits.mplot3d import axes3d\n",
        "\n",
        "import sklearn.metrics as sm\n",
        "from sklearn.metrics import confusion_matrix,classification_report\n",
        "X_ax1 = sklearn.preprocessing.scale(df)"
      ],
      "execution_count": 9,
      "outputs": []
    },
    {
      "cell_type": "code",
      "metadata": {
        "id": "09mhYuBPUPAZ"
      },
      "source": [
        "X_ax10 = sklearn.preprocessing.scale(df)"
      ],
      "execution_count": 10,
      "outputs": []
    },
    {
      "cell_type": "code",
      "metadata": {
        "id": "z4Do-VejURqw"
      },
      "source": [
        "d10 = pd.DataFrame(X_ax10)\n",
        "d10.fillna(0,inplace=True)"
      ],
      "execution_count": 11,
      "outputs": []
    },
    {
      "cell_type": "code",
      "metadata": {
        "colab": {
          "base_uri": "https://localhost:8080/"
        },
        "id": "P9xAlMVAUWKu",
        "outputId": "0f9107a4-6568-493e-a5c0-cbbdd2df6ad6"
      },
      "source": [
        "clustering = KMeans(n_clusters=24,random_state= 5)\n",
        "clustering.fit(d10)"
      ],
      "execution_count": 12,
      "outputs": [
        {
          "output_type": "execute_result",
          "data": {
            "text/plain": [
              "KMeans(algorithm='auto', copy_x=True, init='k-means++', max_iter=300,\n",
              "       n_clusters=24, n_init=10, n_jobs=None, precompute_distances='auto',\n",
              "       random_state=5, tol=0.0001, verbose=0)"
            ]
          },
          "metadata": {
            "tags": []
          },
          "execution_count": 12
        }
      ]
    },
    {
      "cell_type": "code",
      "metadata": {
        "colab": {
          "base_uri": "https://localhost:8080/"
        },
        "id": "n7TEmNHtUX5f",
        "outputId": "c8e5dabd-ea8b-430e-fdec-1f98f1b86c3d"
      },
      "source": [
        "p10 = clustering.predict(d10)\n",
        "p10d = pd.DataFrame(p10)\n",
        "p10d.value_counts()"
      ],
      "execution_count": 13,
      "outputs": [
        {
          "output_type": "execute_result",
          "data": {
            "text/plain": [
              "22    434\n",
              "0     368\n",
              "18    360\n",
              "8     319\n",
              "15    301\n",
              "16    289\n",
              "19    249\n",
              "6     244\n",
              "11    239\n",
              "3     228\n",
              "13    226\n",
              "12    225\n",
              "2     204\n",
              "20    196\n",
              "17    190\n",
              "14    189\n",
              "1     173\n",
              "9     162\n",
              "10    151\n",
              "5     150\n",
              "4     150\n",
              "21    141\n",
              "7     137\n",
              "23    123\n",
              "dtype: int64"
            ]
          },
          "metadata": {
            "tags": []
          },
          "execution_count": 13
        }
      ]
    },
    {
      "cell_type": "code",
      "metadata": {
        "id": "m3U1WJGQUd1J"
      },
      "source": [
        "cluster_map = pd.DataFrame()\n",
        "cluster_map['data_index'] = d10.index.values\n",
        "km = KMeans(n_clusters=24).fit(d10)\n",
        "cluster_map['cluster'] = km.labels_"
      ],
      "execution_count": 14,
      "outputs": []
    },
    {
      "cell_type": "code",
      "metadata": {
        "id": "AetWPteLUjWd"
      },
      "source": [
        "p10c = pd.DataFrame(p10d)\n",
        "cluster_map1 = pd.DataFrame()\n",
        "cluster_map1['data_index'] = p10c.index.values\n",
        "km = KMeans(n_clusters=24).fit(p10c)\n",
        "cluster_map1['cluster'] = km.labels_"
      ],
      "execution_count": 15,
      "outputs": []
    },
    {
      "cell_type": "code",
      "metadata": {
        "id": "zNqJI8p0UzAP"
      },
      "source": [
        "traveldata = pd.read_excel(r\"/content/drive/Shareddrives/Drive/traveldata1.xlsx\")\n",
        "input_data = pd.read_csv(r\"/content/drive/Shareddrives/Drive/User_pref.csv\")\n",
        "travelmod =  pd.read_excel(r\"/content/drive/Shareddrives/Drive/travel_mod.xlsx\")"
      ],
      "execution_count": 16,
      "outputs": []
    },
    {
      "cell_type": "code",
      "metadata": {
        "id": "Uz_iO6KsU5-m"
      },
      "source": [
        "l1 = travelmod.Attractions\n",
        "l2 = l1.replace(np.nan,'pub')\n",
        "l3 = input_data.Userpreferences\n",
        "l4 = l3.replace(np.nan,'pub')"
      ],
      "execution_count": 17,
      "outputs": []
    },
    {
      "cell_type": "code",
      "metadata": {
        "id": "JrWVfgpdVH2p"
      },
      "source": [
        "from difflib import SequenceMatcher\n",
        "\n",
        "def similar(a, b):\n",
        "    return SequenceMatcher(None, a, b).ratio()"
      ],
      "execution_count": 18,
      "outputs": []
    },
    {
      "cell_type": "code",
      "metadata": {
        "colab": {
          "base_uri": "https://localhost:8080/"
        },
        "id": "SPEMn4x8VYcX",
        "outputId": "beed0a5d-2d9c-4584-bcf3-6aeb39ff31f6"
      },
      "source": [
        "#cluster3\n",
        "count3 = 0;\n",
        "S3 = {}\n",
        "for a in range(5448):\n",
        "  for b in range(5448):\n",
        "      if (cluster_map1.cluster[b]==3):\n",
        "         S3[a,b] = similar(l2[b],l4[a])\n",
        "         count3 = count3+1\n",
        "         \n",
        "print (count3) "
      ],
      "execution_count": 19,
      "outputs": [
        {
          "output_type": "stream",
          "text": [
            "1329312\n"
          ],
          "name": "stdout"
        }
      ]
    },
    {
      "cell_type": "code",
      "metadata": {
        "id": "7AySppEbVgVd"
      },
      "source": [
        "Tf ={}\n",
        "import operator\n",
        "Tf = dict(sorted(S3.items(), key=operator.itemgetter(1), reverse=True)[:10])"
      ],
      "execution_count": null,
      "outputs": []
    },
    {
      "cell_type": "code",
      "metadata": {
        "colab": {
          "base_uri": "https://localhost:8080/"
        },
        "id": "NWpW2oxeXYjC",
        "outputId": "f802d805-c65d-4344-ee11-c79e15279b55"
      },
      "source": [
        "Tf"
      ],
      "execution_count": null,
      "outputs": [
        {
          "output_type": "execute_result",
          "data": {
            "text/plain": [
              "{(2495, 607): 1.0,\n",
              " (2495, 4747): 1.0,\n",
              " (3704, 1740): 0.8235294117647058,\n",
              " (4171, 723): 0.8235294117647058,\n",
              " (4171, 2010): 0.8235294117647058,\n",
              " (4171, 2088): 0.8235294117647058,\n",
              " (4171, 3188): 0.8235294117647058,\n",
              " (4171, 4522): 0.8235294117647058,\n",
              " (4879, 607): 1.0,\n",
              " (4879, 4747): 1.0}"
            ]
          },
          "metadata": {
            "tags": []
          },
          "execution_count": 22
        }
      ]
    },
    {
      "cell_type": "code",
      "metadata": {
        "colab": {
          "base_uri": "https://localhost:8080/",
          "height": 36
        },
        "id": "607izt6zXZg0",
        "outputId": "7a68f584-3d88-4dda-a269-48aabdb61ec8"
      },
      "source": [
        "l2[607]"
      ],
      "execution_count": null,
      "outputs": [
        {
          "output_type": "execute_result",
          "data": {
            "application/vnd.google.colaboratory.intrinsic+json": {
              "type": "string"
            },
            "text/plain": [
              "'pub'"
            ]
          },
          "metadata": {
            "tags": []
          },
          "execution_count": 23
        }
      ]
    },
    {
      "cell_type": "code",
      "metadata": {
        "colab": {
          "base_uri": "https://localhost:8080/",
          "height": 36
        },
        "id": "q06JGOqqXjNM",
        "outputId": "38ba8c27-af54-418b-bd38-0619a5a268eb"
      },
      "source": [
        "l4[2495]"
      ],
      "execution_count": null,
      "outputs": [
        {
          "output_type": "execute_result",
          "data": {
            "application/vnd.google.colaboratory.intrinsic+json": {
              "type": "string"
            },
            "text/plain": [
              "'pub'"
            ]
          },
          "metadata": {
            "tags": []
          },
          "execution_count": 24
        }
      ]
    },
    {
      "cell_type": "code",
      "metadata": {
        "id": "PSl3y1zlXk8C"
      },
      "source": [
        "td = pd.DataFrame(travelmod)\n",
        "td['fromto'] = td['place_from'].str.cat(td['place_to'],sep =\",\" )"
      ],
      "execution_count": null,
      "outputs": []
    },
    {
      "cell_type": "code",
      "metadata": {
        "id": "l4j7i0E0XqT7"
      },
      "source": [
        "tf1 = list(Tf.items())\n",
        "\n",
        "tf2 = []\n",
        "for x in range(len(tf1)):\n",
        "  tf2.append(list(tf1[x][0]))"
      ],
      "execution_count": null,
      "outputs": []
    },
    {
      "cell_type": "code",
      "metadata": {
        "colab": {
          "base_uri": "https://localhost:8080/"
        },
        "id": "aWEg8VzaX8H5",
        "outputId": "0d8b90fa-1235-42d3-f046-928d96f995c7"
      },
      "source": [
        "tf2"
      ],
      "execution_count": null,
      "outputs": [
        {
          "output_type": "execute_result",
          "data": {
            "text/plain": [
              "[[2495, 607],\n",
              " [2495, 4747],\n",
              " [4879, 607],\n",
              " [4879, 4747],\n",
              " [3704, 1740],\n",
              " [4171, 723],\n",
              " [4171, 2010],\n",
              " [4171, 2088],\n",
              " [4171, 3188],\n",
              " [4171, 4522]]"
            ]
          },
          "metadata": {
            "tags": []
          },
          "execution_count": 27
        }
      ]
    },
    {
      "cell_type": "code",
      "metadata": {
        "colab": {
          "base_uri": "https://localhost:8080/"
        },
        "id": "-R8d5rYPYBxK",
        "outputId": "937de380-cc89-4fb6-cb1a-690895f87ad9"
      },
      "source": [
        "tf2[1]"
      ],
      "execution_count": null,
      "outputs": [
        {
          "output_type": "execute_result",
          "data": {
            "text/plain": [
              "[2495, 4747]"
            ]
          },
          "metadata": {
            "tags": []
          },
          "execution_count": 29
        }
      ]
    },
    {
      "cell_type": "code",
      "metadata": {
        "id": "6Zq9mOXWYEhF"
      },
      "source": [
        "tf2[1][1]\n",
        "tr ={}\n",
        "tr = td.fromto\n",
        "tr1 = tr.items()\n",
        "tr2 = list(tr1)"
      ],
      "execution_count": null,
      "outputs": []
    },
    {
      "cell_type": "code",
      "metadata": {
        "colab": {
          "base_uri": "https://localhost:8080/"
        },
        "id": "jtYvHtyXYHtx",
        "outputId": "f5ec8dad-9894-4abc-e6ec-bbb8f81ebf9f"
      },
      "source": [
        "for a in range(10):\n",
        "  print(tr2[tf2[a][1]])"
      ],
      "execution_count": null,
      "outputs": [
        {
          "output_type": "stream",
          "text": [
            "(607, 'Campo Grande (MS),Aracaju (SE)')\n",
            "(4747, 'Brasilia (DF),Aracaju (SE)')\n",
            "(607, 'Campo Grande (MS),Aracaju (SE)')\n",
            "(4747, 'Brasilia (DF),Aracaju (SE)')\n",
            "(1740, 'Recife (PE),Rio de Janeiro (RJ)')\n",
            "(723, 'Natal (RN),Recife (PE)')\n",
            "(2010, 'Recife (PE),Rio de Janeiro (RJ)')\n",
            "(2088, 'Recife (PE),Natal (RN)')\n",
            "(3188, 'Aracaju (SE),Sao Paulo (SP)')\n",
            "(4522, 'Brasilia (DF),Florianopolis (SC)')\n"
          ],
          "name": "stdout"
        }
      ]
    },
    {
      "cell_type": "code",
      "metadata": {
        "id": "GINwf7ktYq7s",
        "colab": {
          "base_uri": "https://localhost:8080/",
          "height": 354
        },
        "outputId": "230205c5-8c57-4342-f4e3-499408b87ce6"
      },
      "source": [
        "#cluster\n",
        "\n",
        "S = {}\n",
        "for x in range(24):\n",
        "  for a in range(5448):\n",
        "    for b in range(5448):\n",
        "      if (cluster_map1.cluster[b]==x):\n",
        "        S[x,a,b] = similar(l2[b],l4[a])"
      ],
      "execution_count": null,
      "outputs": [
        {
          "output_type": "error",
          "ename": "KeyboardInterrupt",
          "evalue": "ignored",
          "traceback": [
            "\u001b[0;31m---------------------------------------------------------------------------\u001b[0m",
            "\u001b[0;31mKeyboardInterrupt\u001b[0m                         Traceback (most recent call last)",
            "\u001b[0;32m<ipython-input-31-93225c3d9a99>\u001b[0m in \u001b[0;36m<module>\u001b[0;34m()\u001b[0m\n\u001b[1;32m      5\u001b[0m   \u001b[0;32mfor\u001b[0m \u001b[0ma\u001b[0m \u001b[0;32min\u001b[0m \u001b[0mrange\u001b[0m\u001b[0;34m(\u001b[0m\u001b[0;36m5448\u001b[0m\u001b[0;34m)\u001b[0m\u001b[0;34m:\u001b[0m\u001b[0;34m\u001b[0m\u001b[0;34m\u001b[0m\u001b[0m\n\u001b[1;32m      6\u001b[0m     \u001b[0;32mfor\u001b[0m \u001b[0mb\u001b[0m \u001b[0;32min\u001b[0m \u001b[0mrange\u001b[0m\u001b[0;34m(\u001b[0m\u001b[0;36m5448\u001b[0m\u001b[0;34m)\u001b[0m\u001b[0;34m:\u001b[0m\u001b[0;34m\u001b[0m\u001b[0;34m\u001b[0m\u001b[0m\n\u001b[0;32m----> 7\u001b[0;31m       \u001b[0;32mif\u001b[0m \u001b[0;34m(\u001b[0m\u001b[0mcluster_map1\u001b[0m\u001b[0;34m.\u001b[0m\u001b[0mcluster\u001b[0m\u001b[0;34m[\u001b[0m\u001b[0mb\u001b[0m\u001b[0;34m]\u001b[0m\u001b[0;34m==\u001b[0m\u001b[0mx\u001b[0m\u001b[0;34m)\u001b[0m\u001b[0;34m:\u001b[0m\u001b[0;34m\u001b[0m\u001b[0;34m\u001b[0m\u001b[0m\n\u001b[0m\u001b[1;32m      8\u001b[0m         \u001b[0mS\u001b[0m\u001b[0;34m[\u001b[0m\u001b[0mx\u001b[0m\u001b[0;34m,\u001b[0m\u001b[0ma\u001b[0m\u001b[0;34m,\u001b[0m\u001b[0mb\u001b[0m\u001b[0;34m]\u001b[0m \u001b[0;34m=\u001b[0m \u001b[0msimilar\u001b[0m\u001b[0;34m(\u001b[0m\u001b[0ml2\u001b[0m\u001b[0;34m[\u001b[0m\u001b[0mb\u001b[0m\u001b[0;34m]\u001b[0m\u001b[0;34m,\u001b[0m\u001b[0ml4\u001b[0m\u001b[0;34m[\u001b[0m\u001b[0ma\u001b[0m\u001b[0;34m]\u001b[0m\u001b[0;34m)\u001b[0m\u001b[0;34m\u001b[0m\u001b[0;34m\u001b[0m\u001b[0m\n",
            "\u001b[0;32m/usr/local/lib/python3.7/dist-packages/pandas/core/generic.py\u001b[0m in \u001b[0;36m__getattr__\u001b[0;34m(self, name)\u001b[0m\n\u001b[1;32m   5138\u001b[0m         \u001b[0;32melse\u001b[0m\u001b[0;34m:\u001b[0m\u001b[0;34m\u001b[0m\u001b[0;34m\u001b[0m\u001b[0m\n\u001b[1;32m   5139\u001b[0m             \u001b[0;32mif\u001b[0m \u001b[0mself\u001b[0m\u001b[0;34m.\u001b[0m\u001b[0m_info_axis\u001b[0m\u001b[0;34m.\u001b[0m\u001b[0m_can_hold_identifiers_and_holds_name\u001b[0m\u001b[0;34m(\u001b[0m\u001b[0mname\u001b[0m\u001b[0;34m)\u001b[0m\u001b[0;34m:\u001b[0m\u001b[0;34m\u001b[0m\u001b[0;34m\u001b[0m\u001b[0m\n\u001b[0;32m-> 5140\u001b[0;31m                 \u001b[0;32mreturn\u001b[0m \u001b[0mself\u001b[0m\u001b[0;34m[\u001b[0m\u001b[0mname\u001b[0m\u001b[0;34m]\u001b[0m\u001b[0;34m\u001b[0m\u001b[0;34m\u001b[0m\u001b[0m\n\u001b[0m\u001b[1;32m   5141\u001b[0m             \u001b[0;32mreturn\u001b[0m \u001b[0mobject\u001b[0m\u001b[0;34m.\u001b[0m\u001b[0m__getattribute__\u001b[0m\u001b[0;34m(\u001b[0m\u001b[0mself\u001b[0m\u001b[0;34m,\u001b[0m \u001b[0mname\u001b[0m\u001b[0;34m)\u001b[0m\u001b[0;34m\u001b[0m\u001b[0;34m\u001b[0m\u001b[0m\n\u001b[1;32m   5142\u001b[0m \u001b[0;34m\u001b[0m\u001b[0m\n",
            "\u001b[0;32m/usr/local/lib/python3.7/dist-packages/pandas/core/frame.py\u001b[0m in \u001b[0;36m__getitem__\u001b[0;34m(self, key)\u001b[0m\n\u001b[1;32m   2871\u001b[0m         \u001b[0mkey\u001b[0m \u001b[0;34m=\u001b[0m \u001b[0mcom\u001b[0m\u001b[0;34m.\u001b[0m\u001b[0mapply_if_callable\u001b[0m\u001b[0;34m(\u001b[0m\u001b[0mkey\u001b[0m\u001b[0;34m,\u001b[0m \u001b[0mself\u001b[0m\u001b[0;34m)\u001b[0m\u001b[0;34m\u001b[0m\u001b[0;34m\u001b[0m\u001b[0m\n\u001b[1;32m   2872\u001b[0m \u001b[0;34m\u001b[0m\u001b[0m\n\u001b[0;32m-> 2873\u001b[0;31m         \u001b[0;32mif\u001b[0m \u001b[0mis_hashable\u001b[0m\u001b[0;34m(\u001b[0m\u001b[0mkey\u001b[0m\u001b[0;34m)\u001b[0m\u001b[0;34m:\u001b[0m\u001b[0;34m\u001b[0m\u001b[0;34m\u001b[0m\u001b[0m\n\u001b[0m\u001b[1;32m   2874\u001b[0m             \u001b[0;31m# shortcut if the key is in columns\u001b[0m\u001b[0;34m\u001b[0m\u001b[0;34m\u001b[0m\u001b[0;34m\u001b[0m\u001b[0m\n\u001b[1;32m   2875\u001b[0m             \u001b[0;32mif\u001b[0m \u001b[0mself\u001b[0m\u001b[0;34m.\u001b[0m\u001b[0mcolumns\u001b[0m\u001b[0;34m.\u001b[0m\u001b[0mis_unique\u001b[0m \u001b[0;32mand\u001b[0m \u001b[0mkey\u001b[0m \u001b[0;32min\u001b[0m \u001b[0mself\u001b[0m\u001b[0;34m.\u001b[0m\u001b[0mcolumns\u001b[0m\u001b[0;34m:\u001b[0m\u001b[0;34m\u001b[0m\u001b[0;34m\u001b[0m\u001b[0m\n",
            "\u001b[0;32m/usr/local/lib/python3.7/dist-packages/pandas/core/dtypes/inference.py\u001b[0m in \u001b[0;36mis_hashable\u001b[0;34m(obj)\u001b[0m\n\u001b[1;32m    351\u001b[0m \u001b[0;34m\u001b[0m\u001b[0m\n\u001b[1;32m    352\u001b[0m     \u001b[0;32mtry\u001b[0m\u001b[0;34m:\u001b[0m\u001b[0;34m\u001b[0m\u001b[0;34m\u001b[0m\u001b[0m\n\u001b[0;32m--> 353\u001b[0;31m         \u001b[0mhash\u001b[0m\u001b[0;34m(\u001b[0m\u001b[0mobj\u001b[0m\u001b[0;34m)\u001b[0m\u001b[0;34m\u001b[0m\u001b[0;34m\u001b[0m\u001b[0m\n\u001b[0m\u001b[1;32m    354\u001b[0m     \u001b[0;32mexcept\u001b[0m \u001b[0mTypeError\u001b[0m\u001b[0;34m:\u001b[0m\u001b[0;34m\u001b[0m\u001b[0;34m\u001b[0m\u001b[0m\n\u001b[1;32m    355\u001b[0m         \u001b[0;32mreturn\u001b[0m \u001b[0;32mFalse\u001b[0m\u001b[0;34m\u001b[0m\u001b[0;34m\u001b[0m\u001b[0m\n",
            "\u001b[0;31mKeyboardInterrupt\u001b[0m: "
          ]
        }
      ]
    },
    {
      "cell_type": "code",
      "metadata": {
        "id": "vyoKvZRFbYG0"
      },
      "source": [
        ""
      ],
      "execution_count": null,
      "outputs": []
    }
  ]
}